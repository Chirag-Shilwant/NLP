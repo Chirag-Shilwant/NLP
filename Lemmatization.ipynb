{
  "nbformat": 4,
  "nbformat_minor": 0,
  "metadata": {
    "colab": {
      "name": "Lemmatization.ipynb",
      "provenance": [],
      "authorship_tag": "ABX9TyPr0D5WAv9gEESQOzuUHczH",
      "include_colab_link": true
    },
    "kernelspec": {
      "name": "python3",
      "display_name": "Python 3"
    },
    "language_info": {
      "name": "python"
    }
  },
  "cells": [
    {
      "cell_type": "markdown",
      "metadata": {
        "id": "view-in-github",
        "colab_type": "text"
      },
      "source": [
        "<a href=\"https://colab.research.google.com/github/Chirag-Shilwant/NLP/blob/main/Lemmatization.ipynb\" target=\"_parent\"><img src=\"https://colab.research.google.com/assets/colab-badge.svg\" alt=\"Open In Colab\"/></a>"
      ]
    },
    {
      "cell_type": "code",
      "metadata": {
        "colab": {
          "base_uri": "https://localhost:8080/"
        },
        "id": "cPOUfsPafIEe",
        "outputId": "a0785e6c-4e6f-4a0e-8c9e-ec443dccb4ee"
      },
      "source": [
        "import nltk\n",
        "nltk.download('punkt')\n",
        "nltk.download('stopwords')\n",
        "nltk.download('wordnet')"
      ],
      "execution_count": 18,
      "outputs": [
        {
          "output_type": "stream",
          "text": [
            "[nltk_data] Downloading package punkt to /root/nltk_data...\n",
            "[nltk_data]   Package punkt is already up-to-date!\n",
            "[nltk_data] Downloading package stopwords to /root/nltk_data...\n",
            "[nltk_data]   Package stopwords is already up-to-date!\n",
            "[nltk_data] Downloading package wordnet to /root/nltk_data...\n",
            "[nltk_data]   Unzipping corpora/wordnet.zip.\n"
          ],
          "name": "stdout"
        },
        {
          "output_type": "execute_result",
          "data": {
            "text/plain": [
              "True"
            ]
          },
          "metadata": {
            "tags": []
          },
          "execution_count": 18
        }
      ]
    },
    {
      "cell_type": "code",
      "metadata": {
        "id": "wz5tM9iBfIA_"
      },
      "source": [
        "from nltk.stem import WordNetLemmatizer\n",
        "from nltk.corpus import stopwords"
      ],
      "execution_count": 19,
      "outputs": []
    },
    {
      "cell_type": "code",
      "metadata": {
        "id": "AL2vm7sxenqA"
      },
      "source": [
        "paragraph = \"\"\"A healthy body and mind are essential to achieve complete wellbeing. \n",
        "              If we are healthy, we can resist our bodies from being attacked by germs. Our bodies are really sensitive and therefore, must be handled with necessary precautions.\n",
        "              We can develop healthy habits like eating and sleeping on time to boost our overall health. This helps in becoming a healthier version of ourselves. \n",
        "              Holistic growth can be achieved if we focus on all the aspects of our health. Such as nutrition, wellness, spirituality, and mental health. \n",
        "              There are plenty of exercises that will boost our physical health and help us to become stronger. \n",
        "              A stronger body would lead to less fatigue while performing any activity. It is advised that we must exercise for at least 2 hours every day for better health. \n",
        "              We can even join fitness classes to take professional help and practice the art of health and wellness in a better way.\"\"\""
      ],
      "execution_count": 20,
      "outputs": []
    },
    {
      "cell_type": "code",
      "metadata": {
        "id": "ME7-UXl-gNzd"
      },
      "source": [
        "# Tokenizing sentences\n",
        "sentences = nltk.sent_tokenize(paragraph)"
      ],
      "execution_count": 21,
      "outputs": []
    },
    {
      "cell_type": "code",
      "metadata": {
        "colab": {
          "base_uri": "https://localhost:8080/"
        },
        "id": "QXHzNLbsgNnO",
        "outputId": "eb4fa510-52b5-420d-bc4c-74b59b319af6"
      },
      "source": [
        "sentences"
      ],
      "execution_count": 22,
      "outputs": [
        {
          "output_type": "execute_result",
          "data": {
            "text/plain": [
              "['A healthy body and mind are essential to achieve complete wellbeing.',\n",
              " 'If we are healthy, we can resist our bodies from being attacked by germs.',\n",
              " 'Our bodies are really sensitive and therefore, must be handled with necessary precautions.',\n",
              " 'We can develop healthy habits like eating and sleeping on time to boost our overall health.',\n",
              " 'This helps in becoming a healthier version of ourselves.',\n",
              " 'Holistic growth can be achieved if we focus on all the aspects of our health.',\n",
              " 'Such as nutrition, wellness, spirituality, and mental health.',\n",
              " 'There are plenty of exercises that will boost our physical health and help us to become stronger.',\n",
              " 'A stronger body would lead to less fatigue while performing any activity.',\n",
              " 'It is advised that we must exercise for at least 2 hours every day for better health.',\n",
              " 'We can even join fitness classes to take professional help and practice the art of health and wellness in a better way.']"
            ]
          },
          "metadata": {
            "tags": []
          },
          "execution_count": 22
        }
      ]
    },
    {
      "cell_type": "code",
      "metadata": {
        "id": "dz7XLuOxgTbE"
      },
      "source": [
        "Lemmatizer = WordNetLemmatizer()"
      ],
      "execution_count": 23,
      "outputs": []
    },
    {
      "cell_type": "code",
      "metadata": {
        "id": "xWGEMh_-gTTZ"
      },
      "source": [
        "# Lemmatizing\n",
        "for i in range(len(sentences)):\n",
        "    words = nltk.word_tokenize(sentences[i])\n",
        "    words = [Lemmatizer.lemmatize(word) for word in words if word not in set(stopwords.words('english'))]\n",
        "    sentences[i] = ' '.join(words)"
      ],
      "execution_count": 24,
      "outputs": []
    },
    {
      "cell_type": "code",
      "metadata": {
        "colab": {
          "base_uri": "https://localhost:8080/"
        },
        "id": "JGTSZln3gg1e",
        "outputId": "9769b7e5-77b2-4ae4-b539-9f4d026c9526"
      },
      "source": [
        "sentences"
      ],
      "execution_count": 25,
      "outputs": [
        {
          "output_type": "execute_result",
          "data": {
            "text/plain": [
              "['A healthy body mind essential achieve complete wellbeing .',\n",
              " 'If healthy , resist body attacked germ .',\n",
              " 'Our body really sensitive therefore , must handled necessary precaution .',\n",
              " 'We develop healthy habit like eating sleeping time boost overall health .',\n",
              " 'This help becoming healthier version .',\n",
              " 'Holistic growth achieved focus aspect health .',\n",
              " 'Such nutrition , wellness , spirituality , mental health .',\n",
              " 'There plenty exercise boost physical health help u become stronger .',\n",
              " 'A stronger body would lead le fatigue performing activity .',\n",
              " 'It advised must exercise least 2 hour every day better health .',\n",
              " 'We even join fitness class take professional help practice art health wellness better way .']"
            ]
          },
          "metadata": {
            "tags": []
          },
          "execution_count": 25
        }
      ]
    }
  ]
}