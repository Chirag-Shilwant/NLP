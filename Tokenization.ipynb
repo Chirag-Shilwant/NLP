{
  "nbformat": 4,
  "nbformat_minor": 0,
  "metadata": {
    "colab": {
      "name": "Tokenization.ipynb",
      "provenance": [],
      "authorship_tag": "ABX9TyNak1buNl9BAmO+5ktCiy1+",
      "include_colab_link": true
    },
    "kernelspec": {
      "name": "python3",
      "display_name": "Python 3"
    },
    "language_info": {
      "name": "python"
    }
  },
  "cells": [
    {
      "cell_type": "markdown",
      "metadata": {
        "id": "view-in-github",
        "colab_type": "text"
      },
      "source": [
        "<a href=\"https://colab.research.google.com/github/Chirag-Shilwant/NLP/blob/main/Tokenization.ipynb\" target=\"_parent\"><img src=\"https://colab.research.google.com/assets/colab-badge.svg\" alt=\"Open In Colab\"/></a>"
      ]
    },
    {
      "cell_type": "code",
      "metadata": {
        "colab": {
          "base_uri": "https://localhost:8080/"
        },
        "id": "mhLApEXEwY7I",
        "outputId": "cd4cba6a-7ee9-4ff7-b793-520fc4e1c914"
      },
      "source": [
        "!pip install nltk"
      ],
      "execution_count": 1,
      "outputs": [
        {
          "output_type": "stream",
          "text": [
            "Requirement already satisfied: nltk in /usr/local/lib/python3.7/dist-packages (3.2.5)\n",
            "Requirement already satisfied: six in /usr/local/lib/python3.7/dist-packages (from nltk) (1.15.0)\n"
          ],
          "name": "stdout"
        }
      ]
    },
    {
      "cell_type": "code",
      "metadata": {
        "colab": {
          "base_uri": "https://localhost:8080/"
        },
        "id": "tCa_UoJVwdm0",
        "outputId": "8478ec3e-99ff-4776-9392-2facee039fd8"
      },
      "source": [
        "import nltk\n",
        "nltk.download('punkt')"
      ],
      "execution_count": 5,
      "outputs": [
        {
          "output_type": "stream",
          "text": [
            "[nltk_data] Downloading package punkt to /root/nltk_data...\n",
            "[nltk_data]   Unzipping tokenizers/punkt.zip.\n"
          ],
          "name": "stdout"
        },
        {
          "output_type": "execute_result",
          "data": {
            "text/plain": [
              "True"
            ]
          },
          "metadata": {
            "tags": []
          },
          "execution_count": 5
        }
      ]
    },
    {
      "cell_type": "markdown",
      "metadata": {
        "id": "6JcoMPKyxnim"
      },
      "source": [
        "Converting a paragraph to sentences and then the sentences to words\n",
        "\n",
        "**nltk.sent_tokenize - paragraph to list of sentences**\n",
        "\n",
        "**nltk.word_tokenize - sentences to list of words**"
      ]
    },
    {
      "cell_type": "code",
      "metadata": {
        "id": "f4AODixcyUzV"
      },
      "source": [
        "paragraph = \"\"\"A healthy body and mind are essential to achieve complete wellbeing. \n",
        "              If we are healthy, we can resist our bodies from being attacked by germs. Our bodies are really sensitive and therefore, must be handled with necessary precautions.\n",
        "              We can develop healthy habits like eating and sleeping on time to boost our overall health. This helps in becoming a healthier version of ourselves. \n",
        "              Holistic growth can be achieved if we focus on all the aspects of our health. Such as nutrition, wellness, spirituality, and mental health. \n",
        "              There are plenty of exercises that will boost our physical health and help us to become stronger. \n",
        "              A stronger body would lead to less fatigue while performing any activity. It is advised that we must exercise for at least 2 hours every day for better health. \n",
        "              We can even join fitness classes to take professional help and practice the art of health and wellness in a better way.\"\"\""
      ],
      "execution_count": 6,
      "outputs": []
    },
    {
      "cell_type": "code",
      "metadata": {
        "id": "jDWV2QyvyUli"
      },
      "source": [
        "# Tokenizing sentences\n",
        "sentences = nltk.sent_tokenize(paragraph)"
      ],
      "execution_count": 8,
      "outputs": []
    },
    {
      "cell_type": "code",
      "metadata": {
        "colab": {
          "base_uri": "https://localhost:8080/"
        },
        "id": "OtbfKpjny0ce",
        "outputId": "4ea10494-ec30-42b9-eb8a-69a2388614a6"
      },
      "source": [
        "sentences"
      ],
      "execution_count": 9,
      "outputs": [
        {
          "output_type": "execute_result",
          "data": {
            "text/plain": [
              "['A healthy body and mind are essential to achieve complete wellbeing.',\n",
              " 'If we are healthy, we can resist our bodies from being attacked by germs.',\n",
              " 'Our bodies are really sensitive and therefore, must be handled with necessary precautions.',\n",
              " 'We can develop healthy habits like eating and sleeping on time to boost our overall health.',\n",
              " 'This helps in becoming a healthier version of ourselves.',\n",
              " 'Holistic growth can be achieved if we focus on all the aspects of our health.',\n",
              " 'Such as nutrition, wellness, spirituality, and mental health.',\n",
              " 'There are plenty of exercises that will boost our physical health and help us to become stronger.',\n",
              " 'A stronger body would lead to less fatigue while performing any activity.',\n",
              " 'It is advised that we must exercise for at least 2 hours every day for better health.',\n",
              " 'We can even join fitness classes to take professional help and practice the art of health and wellness in a better way.']"
            ]
          },
          "metadata": {
            "tags": []
          },
          "execution_count": 9
        }
      ]
    },
    {
      "cell_type": "code",
      "metadata": {
        "id": "Ik-KJLFswr8w"
      },
      "source": [
        "# Tokenizing words\n",
        "words = nltk.word_tokenize(paragraph)"
      ],
      "execution_count": 10,
      "outputs": []
    },
    {
      "cell_type": "code",
      "metadata": {
        "colab": {
          "base_uri": "https://localhost:8080/"
        },
        "id": "3KE8TdGby2NR",
        "outputId": "bb8a3464-44b3-4097-fc43-5e85f6fa113d"
      },
      "source": [
        "words"
      ],
      "execution_count": 11,
      "outputs": [
        {
          "output_type": "execute_result",
          "data": {
            "text/plain": [
              "['A',\n",
              " 'healthy',\n",
              " 'body',\n",
              " 'and',\n",
              " 'mind',\n",
              " 'are',\n",
              " 'essential',\n",
              " 'to',\n",
              " 'achieve',\n",
              " 'complete',\n",
              " 'wellbeing',\n",
              " '.',\n",
              " 'If',\n",
              " 'we',\n",
              " 'are',\n",
              " 'healthy',\n",
              " ',',\n",
              " 'we',\n",
              " 'can',\n",
              " 'resist',\n",
              " 'our',\n",
              " 'bodies',\n",
              " 'from',\n",
              " 'being',\n",
              " 'attacked',\n",
              " 'by',\n",
              " 'germs',\n",
              " '.',\n",
              " 'Our',\n",
              " 'bodies',\n",
              " 'are',\n",
              " 'really',\n",
              " 'sensitive',\n",
              " 'and',\n",
              " 'therefore',\n",
              " ',',\n",
              " 'must',\n",
              " 'be',\n",
              " 'handled',\n",
              " 'with',\n",
              " 'necessary',\n",
              " 'precautions',\n",
              " '.',\n",
              " 'We',\n",
              " 'can',\n",
              " 'develop',\n",
              " 'healthy',\n",
              " 'habits',\n",
              " 'like',\n",
              " 'eating',\n",
              " 'and',\n",
              " 'sleeping',\n",
              " 'on',\n",
              " 'time',\n",
              " 'to',\n",
              " 'boost',\n",
              " 'our',\n",
              " 'overall',\n",
              " 'health',\n",
              " '.',\n",
              " 'This',\n",
              " 'helps',\n",
              " 'in',\n",
              " 'becoming',\n",
              " 'a',\n",
              " 'healthier',\n",
              " 'version',\n",
              " 'of',\n",
              " 'ourselves',\n",
              " '.',\n",
              " 'Holistic',\n",
              " 'growth',\n",
              " 'can',\n",
              " 'be',\n",
              " 'achieved',\n",
              " 'if',\n",
              " 'we',\n",
              " 'focus',\n",
              " 'on',\n",
              " 'all',\n",
              " 'the',\n",
              " 'aspects',\n",
              " 'of',\n",
              " 'our',\n",
              " 'health',\n",
              " '.',\n",
              " 'Such',\n",
              " 'as',\n",
              " 'nutrition',\n",
              " ',',\n",
              " 'wellness',\n",
              " ',',\n",
              " 'spirituality',\n",
              " ',',\n",
              " 'and',\n",
              " 'mental',\n",
              " 'health',\n",
              " '.',\n",
              " 'There',\n",
              " 'are',\n",
              " 'plenty',\n",
              " 'of',\n",
              " 'exercises',\n",
              " 'that',\n",
              " 'will',\n",
              " 'boost',\n",
              " 'our',\n",
              " 'physical',\n",
              " 'health',\n",
              " 'and',\n",
              " 'help',\n",
              " 'us',\n",
              " 'to',\n",
              " 'become',\n",
              " 'stronger',\n",
              " '.',\n",
              " 'A',\n",
              " 'stronger',\n",
              " 'body',\n",
              " 'would',\n",
              " 'lead',\n",
              " 'to',\n",
              " 'less',\n",
              " 'fatigue',\n",
              " 'while',\n",
              " 'performing',\n",
              " 'any',\n",
              " 'activity',\n",
              " '.',\n",
              " 'It',\n",
              " 'is',\n",
              " 'advised',\n",
              " 'that',\n",
              " 'we',\n",
              " 'must',\n",
              " 'exercise',\n",
              " 'for',\n",
              " 'at',\n",
              " 'least',\n",
              " '2',\n",
              " 'hours',\n",
              " 'every',\n",
              " 'day',\n",
              " 'for',\n",
              " 'better',\n",
              " 'health',\n",
              " '.',\n",
              " 'We',\n",
              " 'can',\n",
              " 'even',\n",
              " 'join',\n",
              " 'fitness',\n",
              " 'classes',\n",
              " 'to',\n",
              " 'take',\n",
              " 'professional',\n",
              " 'help',\n",
              " 'and',\n",
              " 'practice',\n",
              " 'the',\n",
              " 'art',\n",
              " 'of',\n",
              " 'health',\n",
              " 'and',\n",
              " 'wellness',\n",
              " 'in',\n",
              " 'a',\n",
              " 'better',\n",
              " 'way',\n",
              " '.']"
            ]
          },
          "metadata": {
            "tags": []
          },
          "execution_count": 11
        }
      ]
    }
  ]
}