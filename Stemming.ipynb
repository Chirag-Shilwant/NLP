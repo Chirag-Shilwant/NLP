{
  "nbformat": 4,
  "nbformat_minor": 0,
  "metadata": {
    "colab": {
      "name": "Stemming.ipynb",
      "provenance": [],
      "collapsed_sections": [
        "070IMnYi68rs",
        "1vP6AUtZ8lhi"
      ],
      "authorship_tag": "ABX9TyO6y8qlncbY4R4k8N/7timv",
      "include_colab_link": true
    },
    "kernelspec": {
      "name": "python3",
      "display_name": "Python 3"
    },
    "language_info": {
      "name": "python"
    }
  },
  "cells": [
    {
      "cell_type": "markdown",
      "metadata": {
        "id": "view-in-github",
        "colab_type": "text"
      },
      "source": [
        "<a href=\"https://colab.research.google.com/github/Chirag-Shilwant/NLP/blob/main/Stemming.ipynb\" target=\"_parent\"><img src=\"https://colab.research.google.com/assets/colab-badge.svg\" alt=\"Open In Colab\"/></a>"
      ]
    },
    {
      "cell_type": "code",
      "metadata": {
        "colab": {
          "base_uri": "https://localhost:8080/"
        },
        "id": "l2Gr7kIV2IVe",
        "outputId": "9030020c-bbe6-4047-be08-7e0af0249bb6"
      },
      "source": [
        "import nltk\n",
        "nltk.download('punkt')\n",
        "nltk.download('stopwords')"
      ],
      "execution_count": 14,
      "outputs": [
        {
          "output_type": "stream",
          "text": [
            "[nltk_data] Downloading package punkt to /root/nltk_data...\n",
            "[nltk_data]   Package punkt is already up-to-date!\n",
            "[nltk_data] Downloading package stopwords to /root/nltk_data...\n",
            "[nltk_data]   Unzipping corpora/stopwords.zip.\n"
          ],
          "name": "stdout"
        },
        {
          "output_type": "execute_result",
          "data": {
            "text/plain": [
              "True"
            ]
          },
          "metadata": {
            "tags": []
          },
          "execution_count": 14
        }
      ]
    },
    {
      "cell_type": "markdown",
      "metadata": {
        "id": "kWhYS7vz9Zei"
      },
      "source": [
        "https://www.datacamp.com/community/tutorials/stemming-lemmatization-python - Porter and Lancaster"
      ]
    },
    {
      "cell_type": "markdown",
      "metadata": {
        "id": "070IMnYi68rs"
      },
      "source": [
        "##**Stemming with PorterStemmer**"
      ]
    },
    {
      "cell_type": "code",
      "metadata": {
        "id": "4WcUaJ0Y6Dmo"
      },
      "source": [
        "from nltk.stem import PorterStemmer\n",
        "from nltk.corpus import stopwords"
      ],
      "execution_count": 15,
      "outputs": []
    },
    {
      "cell_type": "code",
      "metadata": {
        "id": "dJFtsqR_6DjA"
      },
      "source": [
        "paragraph = \"\"\"A healthy body and mind are essential to achieve complete wellbeing. \n",
        "              If we are healthy, we can resist our bodies from being attacked by germs. Our bodies are really sensitive and therefore, must be handled with necessary precautions.\n",
        "              We can develop healthy habits like eating and sleeping on time to boost our overall health. This helps in becoming a healthier version of ourselves. \n",
        "              Holistic growth can be achieved if we focus on all the aspects of our health. Such as nutrition, wellness, spirituality, and mental health. \n",
        "              There are plenty of exercises that will boost our physical health and help us to become stronger. \n",
        "              A stronger body would lead to less fatigue while performing any activity. It is advised that we must exercise for at least 2 hours every day for better health. \n",
        "              We can even join fitness classes to take professional help and practice the art of health and wellness in a better way.\"\"\""
      ],
      "execution_count": 16,
      "outputs": []
    },
    {
      "cell_type": "code",
      "metadata": {
        "id": "24vzDt0E6S6h"
      },
      "source": [
        "# Tokenizing sentences\n",
        "sentences = nltk.sent_tokenize(paragraph)"
      ],
      "execution_count": 17,
      "outputs": []
    },
    {
      "cell_type": "code",
      "metadata": {
        "colab": {
          "base_uri": "https://localhost:8080/"
        },
        "id": "LpM0WMu-6lHV",
        "outputId": "707fdec5-56ed-46b1-acd3-f5dd2d9f39e2"
      },
      "source": [
        "sentences"
      ],
      "execution_count": 18,
      "outputs": [
        {
          "output_type": "execute_result",
          "data": {
            "text/plain": [
              "['A healthy body and mind are essential to achieve complete wellbeing.',\n",
              " 'If we are healthy, we can resist our bodies from being attacked by germs.',\n",
              " 'Our bodies are really sensitive and therefore, must be handled with necessary precautions.',\n",
              " 'We can develop healthy habits like eating and sleeping on time to boost our overall health.',\n",
              " 'This helps in becoming a healthier version of ourselves.',\n",
              " 'Holistic growth can be achieved if we focus on all the aspects of our health.',\n",
              " 'Such as nutrition, wellness, spirituality, and mental health.',\n",
              " 'There are plenty of exercises that will boost our physical health and help us to become stronger.',\n",
              " 'A stronger body would lead to less fatigue while performing any activity.',\n",
              " 'It is advised that we must exercise for at least 2 hours every day for better health.',\n",
              " 'We can even join fitness classes to take professional help and practice the art of health and wellness in a better way.']"
            ]
          },
          "metadata": {
            "tags": []
          },
          "execution_count": 18
        }
      ]
    },
    {
      "cell_type": "code",
      "metadata": {
        "id": "It8UcaRJ6SwL"
      },
      "source": [
        "stemmer = PorterStemmer()"
      ],
      "execution_count": 19,
      "outputs": []
    },
    {
      "cell_type": "code",
      "metadata": {
        "id": "2tEt9vBV6Y7a"
      },
      "source": [
        "# Stemming\n",
        "for i in range(len(sentences)):\n",
        "    words = nltk.word_tokenize(sentences[i])\n",
        "    words = [stemmer.stem(word) for word in words if word not in set(stopwords.words('english'))]\n",
        "    sentences[i] = ' '.join(words)"
      ],
      "execution_count": 20,
      "outputs": []
    },
    {
      "cell_type": "code",
      "metadata": {
        "colab": {
          "base_uri": "https://localhost:8080/"
        },
        "id": "CUyqa9W96iHV",
        "outputId": "cc4ece06-dfd2-481e-b096-49bd428f2d46"
      },
      "source": [
        "sentences"
      ],
      "execution_count": 22,
      "outputs": [
        {
          "output_type": "execute_result",
          "data": {
            "text/plain": [
              "['A healthi bodi mind essenti achiev complet wellb .',\n",
              " 'If healthi , resist bodi attack germ .',\n",
              " 'our bodi realli sensit therefor , must handl necessari precaut .',\n",
              " 'We develop healthi habit like eat sleep time boost overal health .',\n",
              " 'thi help becom healthier version .',\n",
              " 'holist growth achiev focu aspect health .',\n",
              " 'such nutrit , well , spiritu , mental health .',\n",
              " 'there plenti exercis boost physic health help us becom stronger .',\n",
              " 'A stronger bodi would lead less fatigu perform activ .',\n",
              " 'It advis must exercis least 2 hour everi day better health .',\n",
              " 'We even join fit class take profession help practic art health well better way .']"
            ]
          },
          "metadata": {
            "tags": []
          },
          "execution_count": 22
        }
      ]
    },
    {
      "cell_type": "markdown",
      "metadata": {
        "id": "1vP6AUtZ8lhi"
      },
      "source": [
        "## **Stemming with LancasterStemmer**"
      ]
    },
    {
      "cell_type": "code",
      "metadata": {
        "id": "FvNChjBR8lLs"
      },
      "source": [
        "from nltk.stem import LancasterStemmer\n",
        "from nltk.corpus import stopwords"
      ],
      "execution_count": 23,
      "outputs": []
    },
    {
      "cell_type": "code",
      "metadata": {
        "id": "BzrJJIjU80hP"
      },
      "source": [
        "paragraph = \"\"\"A healthy body and mind are essential to achieve complete wellbeing. \n",
        "              If we are healthy, we can resist our bodies from being attacked by germs. Our bodies are really sensitive and therefore, must be handled with necessary precautions.\n",
        "              We can develop healthy habits like eating and sleeping on time to boost our overall health. This helps in becoming a healthier version of ourselves. \n",
        "              Holistic growth can be achieved if we focus on all the aspects of our health. Such as nutrition, wellness, spirituality, and mental health. \n",
        "              There are plenty of exercises that will boost our physical health and help us to become stronger. \n",
        "              A stronger body would lead to less fatigue while performing any activity. It is advised that we must exercise for at least 2 hours every day for better health. \n",
        "              We can even join fitness classes to take professional help and practice the art of health and wellness in a better way.\"\"\""
      ],
      "execution_count": 24,
      "outputs": []
    },
    {
      "cell_type": "code",
      "metadata": {
        "id": "phOW9kl780ds"
      },
      "source": [
        "# Tokenizing sentences\n",
        "sentences = nltk.sent_tokenize(paragraph)"
      ],
      "execution_count": 25,
      "outputs": []
    },
    {
      "cell_type": "code",
      "metadata": {
        "colab": {
          "base_uri": "https://localhost:8080/"
        },
        "id": "4ei0sfY580am",
        "outputId": "a56cce0d-e4af-4424-abcb-443413112213"
      },
      "source": [
        "sentences"
      ],
      "execution_count": 26,
      "outputs": [
        {
          "output_type": "execute_result",
          "data": {
            "text/plain": [
              "['A healthy body and mind are essential to achieve complete wellbeing.',\n",
              " 'If we are healthy, we can resist our bodies from being attacked by germs.',\n",
              " 'Our bodies are really sensitive and therefore, must be handled with necessary precautions.',\n",
              " 'We can develop healthy habits like eating and sleeping on time to boost our overall health.',\n",
              " 'This helps in becoming a healthier version of ourselves.',\n",
              " 'Holistic growth can be achieved if we focus on all the aspects of our health.',\n",
              " 'Such as nutrition, wellness, spirituality, and mental health.',\n",
              " 'There are plenty of exercises that will boost our physical health and help us to become stronger.',\n",
              " 'A stronger body would lead to less fatigue while performing any activity.',\n",
              " 'It is advised that we must exercise for at least 2 hours every day for better health.',\n",
              " 'We can even join fitness classes to take professional help and practice the art of health and wellness in a better way.']"
            ]
          },
          "metadata": {
            "tags": []
          },
          "execution_count": 26
        }
      ]
    },
    {
      "cell_type": "code",
      "metadata": {
        "id": "MdZ41ntX88gx"
      },
      "source": [
        "stemmer = LancasterStemmer()"
      ],
      "execution_count": 27,
      "outputs": []
    },
    {
      "cell_type": "code",
      "metadata": {
        "id": "uzI_n3z488L8"
      },
      "source": [
        "# Stemming\n",
        "for i in range(len(sentences)):\n",
        "    words = nltk.word_tokenize(sentences[i])\n",
        "    words = [stemmer.stem(word) for word in words if word not in set(stopwords.words('english'))]\n",
        "    sentences[i] = ' '.join(words)"
      ],
      "execution_count": 28,
      "outputs": []
    },
    {
      "cell_type": "code",
      "metadata": {
        "colab": {
          "base_uri": "https://localhost:8080/"
        },
        "id": "Efh8tObB88Ii",
        "outputId": "05cc2e2f-16d5-4230-87cd-835b2cff76d8"
      },
      "source": [
        "sentences"
      ],
      "execution_count": 29,
      "outputs": [
        {
          "output_type": "execute_result",
          "data": {
            "text/plain": [
              "['a healthy body mind ess achiev complet wellb .',\n",
              " 'if healthy , resist body attack germ .',\n",
              " 'our body real sensit theref , must handl necess precaut .',\n",
              " 'we develop healthy habit lik eat sleep tim boost overal heal .',\n",
              " 'thi help becom healthy vert .',\n",
              " 'hol grow achiev foc aspect heal .',\n",
              " 'such nutrit , wel , spirit , ment heal .',\n",
              " 'ther plenty exerc boost phys heal help us becom stronger .',\n",
              " 'a stronger body would lead less fatigu perform act .',\n",
              " 'it adv must exerc least 2 hour every day bet heal .',\n",
              " 'we ev join fit class tak profess help pract art heal wel bet way .']"
            ]
          },
          "metadata": {
            "tags": []
          },
          "execution_count": 29
        }
      ]
    }
  ]
}